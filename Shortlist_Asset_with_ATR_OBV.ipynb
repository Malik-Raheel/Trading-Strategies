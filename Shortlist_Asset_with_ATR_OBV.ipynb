{
  "nbformat": 4,
  "nbformat_minor": 0,
  "metadata": {
    "colab": {
      "provenance": [],
      "authorship_tag": "ABX9TyO/9E5zEcJ/e+ufTIjJ788q",
      "include_colab_link": true
    },
    "kernelspec": {
      "name": "python3",
      "display_name": "Python 3"
    },
    "language_info": {
      "name": "python"
    }
  },
  "cells": [
    {
      "cell_type": "markdown",
      "metadata": {
        "id": "view-in-github",
        "colab_type": "text"
      },
      "source": [
        "<a href=\"https://colab.research.google.com/github/Malik-Raheel/Trading-Strategies/blob/main/Shortlist_Asset_with_ATR_OBV.ipynb\" target=\"_parent\"><img src=\"https://colab.research.google.com/assets/colab-badge.svg\" alt=\"Open In Colab\"/></a>"
      ]
    },
    {
      "cell_type": "markdown",
      "source": [
        "Tracking Assets from Coingeco: Positive OBV and ATR Assets from top 500 Assets listed at Coin Gecko. Trading Assets that are showing good Strength recently. High volatility and Showing Momentum.\n",
        "It will extract valuable Assets. Shortlist your asset for trading."
      ],
      "metadata": {
        "id": "Y7N8wNFraVv4"
      }
    },
    {
      "cell_type": "code",
      "execution_count": null,
      "metadata": {
        "id": "0U3CAyWJaTz2"
      },
      "outputs": [],
      "source": [
        "# Install required libraries\n",
        "!pip install pandas numpy ta requests pycoingecko"
      ]
    },
    {
      "cell_type": "code",
      "source": [
        "\n",
        "\n",
        "import pandas as pd\n",
        "import numpy as np\n",
        "from ta.volume import OnBalanceVolumeIndicator\n",
        "from ta.volatility import AverageTrueRange\n",
        "from pycoingecko import CoinGeckoAPI\n",
        "import time\n",
        "\n",
        "# Initialize CoinGecko API client\n",
        "cg = CoinGeckoAPI()\n",
        "\n",
        "# Function to fetch top 500 assets from CoinGecko\n",
        "def fetch_top_500_assets():\n",
        "    assets = []\n",
        "    for page in range(1, 6):  # 5 pages x 100 assets = 500 assets\n",
        "        data = cg.get_coins_markets(vs_currency=\"usd\", order=\"market_cap_desc\", per_page=100, page=page)\n",
        "        for asset in data:\n",
        "            assets.append({\n",
        "                \"id\": asset[\"id\"],\n",
        "                \"symbol\": asset[\"symbol\"],\n",
        "                \"name\": asset[\"name\"]\n",
        "            })\n",
        "        time.sleep(1)  # Respect API rate limits\n",
        "    return pd.DataFrame(assets)\n",
        "\n",
        "# Function to fetch historical data for an asset\n",
        "def fetch_historical_data(asset_id, days=\"30\", interval=\"daily\"):\n",
        "    data = cg.get_coin_market_chart_by_id(id=asset_id, vs_currency=\"usd\", days=days, interval=interval)\n",
        "    prices = data[\"prices\"]\n",
        "    volumes = data[\"total_volumes\"]\n",
        "    df = pd.DataFrame({\n",
        "        \"time\": [p[0] for p in prices],\n",
        "        \"price\": [p[1] for p in prices],\n",
        "        \"volume\": [v[1] for v in volumes]\n",
        "    })\n",
        "    df[\"time\"] = pd.to_datetime(df[\"time\"], unit=\"ms\")\n",
        "    return df\n",
        "\n",
        "# Function to calculate OBV and ATR\n",
        "def calculate_indicators(df):\n",
        "    obv = OnBalanceVolumeIndicator(close=df[\"price\"], volume=df[\"volume\"])\n",
        "    atr = AverageTrueRange(high=df[\"price\"], low=df[\"price\"], close=df[\"price\"])\n",
        "    df[\"OBV\"] = obv.on_balance_volume()\n",
        "    df[\"ATR\"] = atr.average_true_range()\n",
        "    return df\n",
        "\n",
        "# Main function to track trending assets\n",
        "def track_trending_assets():\n",
        "    trending_assets = []\n",
        "    top_assets = fetch_top_500_assets()\n",
        "    print(f\"Fetched {len(top_assets)} assets from CoinGecko.\")\n",
        "\n",
        "    for _, asset in top_assets.iterrows():\n",
        "        try:\n",
        "            # Fetch historical data\n",
        "            df = fetch_historical_data(asset[\"id\"])\n",
        "            df = calculate_indicators(df)\n",
        "\n",
        "            # Check for increasing OBV\n",
        "            if len(df) > 1 and df[\"OBV\"].iloc[-1] > df[\"OBV\"].iloc[-2]:\n",
        "                # Check for good ATR\n",
        "                if df[\"ATR\"].iloc[-1] > df[\"ATR\"].mean():  # Compare to average ATR\n",
        "                    trending_assets.append({\n",
        "                        \"id\": asset[\"id\"],\n",
        "                        \"symbol\": asset[\"symbol\"],\n",
        "                        \"name\": asset[\"name\"],\n",
        "                        \"last_price\": df[\"price\"].iloc[-1],\n",
        "                        \"last_OBV\": df[\"OBV\"].iloc[-1],\n",
        "                        \"last_ATR\": df[\"ATR\"].iloc[-1]\n",
        "                    })\n",
        "        except Exception as e:\n",
        "            print(f\"Error processing {asset['id']}: {e}\")\n",
        "        time.sleep(0.2)  # Respect API rate limits\n",
        "\n",
        "    return pd.DataFrame(trending_assets)\n",
        "\n",
        "# Execute the tracker\n",
        "trending_assets = track_trending_assets()\n",
        "print(\"Trending Assets with Increasing OBV and Good ATR:\")\n",
        "print(trending_assets)\n",
        "\n",
        "# Save results to a CSV file\n",
        "trending_assets.to_csv(\"trending_assets.csv\", index=False)\n",
        "print(\"Results saved to 'trending_assets.csv'.\")\n"
      ],
      "metadata": {
        "id": "4gJxv9UXaVi_"
      },
      "execution_count": null,
      "outputs": []
    }
  ]
}