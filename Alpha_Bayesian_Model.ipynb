{
  "nbformat": 4,
  "nbformat_minor": 0,
  "metadata": {
    "colab": {
      "provenance": [],
      "authorship_tag": "ABX9TyNTSh4/AYllI3Akqe/yWGjm",
      "include_colab_link": true
    },
    "kernelspec": {
      "name": "python3",
      "display_name": "Python 3"
    },
    "language_info": {
      "name": "python"
    }
  },
  "cells": [
    {
      "cell_type": "markdown",
      "metadata": {
        "id": "view-in-github",
        "colab_type": "text"
      },
      "source": [
        "<a href=\"https://colab.research.google.com/github/Malik-Raheel/Trading-Strategies/blob/main/Alpha_Bayesian_Model.ipynb\" target=\"_parent\"><img src=\"https://colab.research.google.com/assets/colab-badge.svg\" alt=\"Open In Colab\"/></a>"
      ]
    },
    {
      "cell_type": "markdown",
      "source": [
        "Bayesian model for 4 hour time frame"
      ],
      "metadata": {
        "id": "zZk7BZXCLVVP"
      }
    },
    {
      "cell_type": "code",
      "source": [
        "!pip install ccxt\n",
        "!pip install pandas\n",
        "!pip install numpy\n",
        "!pip install scikit-learn\n",
        "!pip install joblib\n"
      ],
      "metadata": {
        "colab": {
          "base_uri": "https://localhost:8080/"
        },
        "id": "NsLnmT9nLkFi",
        "outputId": "2f9c50f0-9d08-40fa-c873-3f1d5549926e"
      },
      "execution_count": 2,
      "outputs": [
        {
          "output_type": "stream",
          "name": "stdout",
          "text": [
            "Collecting ccxt\n",
            "  Downloading ccxt-4.4.50-py2.py3-none-any.whl.metadata (117 kB)\n",
            "\u001b[?25l     \u001b[90m━━━━━━━━━━━━━━━━━━━━━━━━━━━━━━━━━━━━━━━━\u001b[0m \u001b[32m0.0/117.7 kB\u001b[0m \u001b[31m?\u001b[0m eta \u001b[36m-:--:--\u001b[0m\r\u001b[2K     \u001b[91m━━━━━━━━━━━━━━━━━━━━━━━━━━━━━━━━━━━━━━\u001b[0m\u001b[90m╺\u001b[0m\u001b[90m━\u001b[0m \u001b[32m112.6/117.7 kB\u001b[0m \u001b[31m4.7 MB/s\u001b[0m eta \u001b[36m0:00:01\u001b[0m\r\u001b[2K     \u001b[90m━━━━━━━━━━━━━━━━━━━━━━━━━━━━━━━━━━━━━━━━\u001b[0m \u001b[32m117.7/117.7 kB\u001b[0m \u001b[31m1.3 MB/s\u001b[0m eta \u001b[36m0:00:00\u001b[0m\n",
            "\u001b[?25hRequirement already satisfied: setuptools>=60.9.0 in /usr/local/lib/python3.11/dist-packages (from ccxt) (75.1.0)\n",
            "Requirement already satisfied: certifi>=2018.1.18 in /usr/local/lib/python3.11/dist-packages (from ccxt) (2024.12.14)\n",
            "Requirement already satisfied: requests>=2.18.4 in /usr/local/lib/python3.11/dist-packages (from ccxt) (2.32.3)\n",
            "Requirement already satisfied: cryptography>=2.6.1 in /usr/local/lib/python3.11/dist-packages (from ccxt) (43.0.3)\n",
            "Requirement already satisfied: typing-extensions>=4.4.0 in /usr/local/lib/python3.11/dist-packages (from ccxt) (4.12.2)\n",
            "Collecting aiohttp<=3.10.11 (from ccxt)\n",
            "  Downloading aiohttp-3.10.11-cp311-cp311-manylinux_2_17_x86_64.manylinux2014_x86_64.whl.metadata (7.7 kB)\n",
            "Collecting aiodns>=1.1.1 (from ccxt)\n",
            "  Downloading aiodns-3.2.0-py3-none-any.whl.metadata (4.0 kB)\n",
            "Requirement already satisfied: yarl>=1.7.2 in /usr/local/lib/python3.11/dist-packages (from ccxt) (1.18.3)\n",
            "Collecting pycares>=4.0.0 (from aiodns>=1.1.1->ccxt)\n",
            "  Downloading pycares-4.5.0-cp311-cp311-manylinux_2_17_x86_64.manylinux2014_x86_64.whl.metadata (4.1 kB)\n",
            "Requirement already satisfied: aiohappyeyeballs>=2.3.0 in /usr/local/lib/python3.11/dist-packages (from aiohttp<=3.10.11->ccxt) (2.4.4)\n",
            "Requirement already satisfied: aiosignal>=1.1.2 in /usr/local/lib/python3.11/dist-packages (from aiohttp<=3.10.11->ccxt) (1.3.2)\n",
            "Requirement already satisfied: attrs>=17.3.0 in /usr/local/lib/python3.11/dist-packages (from aiohttp<=3.10.11->ccxt) (24.3.0)\n",
            "Requirement already satisfied: frozenlist>=1.1.1 in /usr/local/lib/python3.11/dist-packages (from aiohttp<=3.10.11->ccxt) (1.5.0)\n",
            "Requirement already satisfied: multidict<7.0,>=4.5 in /usr/local/lib/python3.11/dist-packages (from aiohttp<=3.10.11->ccxt) (6.1.0)\n",
            "Requirement already satisfied: cffi>=1.12 in /usr/local/lib/python3.11/dist-packages (from cryptography>=2.6.1->ccxt) (1.17.1)\n",
            "Requirement already satisfied: charset-normalizer<4,>=2 in /usr/local/lib/python3.11/dist-packages (from requests>=2.18.4->ccxt) (3.4.1)\n",
            "Requirement already satisfied: idna<4,>=2.5 in /usr/local/lib/python3.11/dist-packages (from requests>=2.18.4->ccxt) (3.10)\n",
            "Requirement already satisfied: urllib3<3,>=1.21.1 in /usr/local/lib/python3.11/dist-packages (from requests>=2.18.4->ccxt) (2.3.0)\n",
            "Requirement already satisfied: propcache>=0.2.0 in /usr/local/lib/python3.11/dist-packages (from yarl>=1.7.2->ccxt) (0.2.1)\n",
            "Requirement already satisfied: pycparser in /usr/local/lib/python3.11/dist-packages (from cffi>=1.12->cryptography>=2.6.1->ccxt) (2.22)\n",
            "Downloading ccxt-4.4.50-py2.py3-none-any.whl (5.7 MB)\n",
            "\u001b[2K   \u001b[90m━━━━━━━━━━━━━━━━━━━━━━━━━━━━━━━━━━━━━━━━\u001b[0m \u001b[32m5.7/5.7 MB\u001b[0m \u001b[31m43.1 MB/s\u001b[0m eta \u001b[36m0:00:00\u001b[0m\n",
            "\u001b[?25hDownloading aiodns-3.2.0-py3-none-any.whl (5.7 kB)\n",
            "Downloading aiohttp-3.10.11-cp311-cp311-manylinux_2_17_x86_64.manylinux2014_x86_64.whl (1.3 MB)\n",
            "\u001b[2K   \u001b[90m━━━━━━━━━━━━━━━━━━━━━━━━━━━━━━━━━━━━━━━━\u001b[0m \u001b[32m1.3/1.3 MB\u001b[0m \u001b[31m36.5 MB/s\u001b[0m eta \u001b[36m0:00:00\u001b[0m\n",
            "\u001b[?25hDownloading pycares-4.5.0-cp311-cp311-manylinux_2_17_x86_64.manylinux2014_x86_64.whl (288 kB)\n",
            "\u001b[2K   \u001b[90m━━━━━━━━━━━━━━━━━━━━━━━━━━━━━━━━━━━━━━━━\u001b[0m \u001b[32m288.6/288.6 kB\u001b[0m \u001b[31m21.5 MB/s\u001b[0m eta \u001b[36m0:00:00\u001b[0m\n",
            "\u001b[?25hInstalling collected packages: pycares, aiohttp, aiodns, ccxt\n",
            "  Attempting uninstall: aiohttp\n",
            "    Found existing installation: aiohttp 3.11.11\n",
            "    Uninstalling aiohttp-3.11.11:\n",
            "      Successfully uninstalled aiohttp-3.11.11\n",
            "Successfully installed aiodns-3.2.0 aiohttp-3.10.11 ccxt-4.4.50 pycares-4.5.0\n",
            "Requirement already satisfied: pandas in /usr/local/lib/python3.11/dist-packages (2.2.2)\n",
            "Requirement already satisfied: numpy>=1.23.2 in /usr/local/lib/python3.11/dist-packages (from pandas) (1.26.4)\n",
            "Requirement already satisfied: python-dateutil>=2.8.2 in /usr/local/lib/python3.11/dist-packages (from pandas) (2.8.2)\n",
            "Requirement already satisfied: pytz>=2020.1 in /usr/local/lib/python3.11/dist-packages (from pandas) (2024.2)\n",
            "Requirement already satisfied: tzdata>=2022.7 in /usr/local/lib/python3.11/dist-packages (from pandas) (2025.1)\n",
            "Requirement already satisfied: six>=1.5 in /usr/local/lib/python3.11/dist-packages (from python-dateutil>=2.8.2->pandas) (1.17.0)\n",
            "Requirement already satisfied: numpy in /usr/local/lib/python3.11/dist-packages (1.26.4)\n",
            "Requirement already satisfied: scikit-learn in /usr/local/lib/python3.11/dist-packages (1.6.1)\n",
            "Requirement already satisfied: numpy>=1.19.5 in /usr/local/lib/python3.11/dist-packages (from scikit-learn) (1.26.4)\n",
            "Requirement already satisfied: scipy>=1.6.0 in /usr/local/lib/python3.11/dist-packages (from scikit-learn) (1.13.1)\n",
            "Requirement already satisfied: joblib>=1.2.0 in /usr/local/lib/python3.11/dist-packages (from scikit-learn) (1.4.2)\n",
            "Requirement already satisfied: threadpoolctl>=3.1.0 in /usr/local/lib/python3.11/dist-packages (from scikit-learn) (3.5.0)\n",
            "Requirement already satisfied: joblib in /usr/local/lib/python3.11/dist-packages (1.4.2)\n"
          ]
        }
      ]
    },
    {
      "cell_type": "code",
      "execution_count": 4,
      "metadata": {
        "colab": {
          "base_uri": "https://localhost:8080/"
        },
        "id": "VYLjoR8HLJWo",
        "outputId": "bd0e2b89-0235-4470-ac72-fbc33fc49e5f"
      },
      "outputs": [
        {
          "output_type": "stream",
          "name": "stdout",
          "text": [
            "Loaded existing Bayesian model.\n"
          ]
        },
        {
          "output_type": "stream",
          "name": "stderr",
          "text": [
            "/usr/local/lib/python3.11/dist-packages/sklearn/utils/validation.py:2739: UserWarning: X does not have valid feature names, but BayesianRidge was fitted with feature names\n",
            "  warnings.warn(\n"
          ]
        },
        {
          "output_type": "stream",
          "name": "stdout",
          "text": [
            "Loaded existing Bayesian model.\n"
          ]
        },
        {
          "output_type": "stream",
          "name": "stderr",
          "text": [
            "/usr/local/lib/python3.11/dist-packages/sklearn/utils/validation.py:2739: UserWarning: X does not have valid feature names, but BayesianRidge was fitted with feature names\n",
            "  warnings.warn(\n"
          ]
        },
        {
          "output_type": "stream",
          "name": "stdout",
          "text": [
            "Loaded existing Bayesian model.\n"
          ]
        },
        {
          "output_type": "stream",
          "name": "stderr",
          "text": [
            "/usr/local/lib/python3.11/dist-packages/sklearn/utils/validation.py:2739: UserWarning: X does not have valid feature names, but BayesianRidge was fitted with feature names\n",
            "  warnings.warn(\n"
          ]
        },
        {
          "output_type": "stream",
          "name": "stdout",
          "text": [
            "Loaded existing Bayesian model.\n"
          ]
        },
        {
          "output_type": "stream",
          "name": "stderr",
          "text": [
            "/usr/local/lib/python3.11/dist-packages/sklearn/utils/validation.py:2739: UserWarning: X does not have valid feature names, but BayesianRidge was fitted with feature names\n",
            "  warnings.warn(\n"
          ]
        },
        {
          "output_type": "stream",
          "name": "stdout",
          "text": [
            "Loaded existing Bayesian model.\n"
          ]
        },
        {
          "output_type": "stream",
          "name": "stderr",
          "text": [
            "/usr/local/lib/python3.11/dist-packages/sklearn/utils/validation.py:2739: UserWarning: X does not have valid feature names, but BayesianRidge was fitted with feature names\n",
            "  warnings.warn(\n"
          ]
        },
        {
          "output_type": "stream",
          "name": "stdout",
          "text": [
            "Loaded existing Bayesian model.\n"
          ]
        },
        {
          "output_type": "stream",
          "name": "stderr",
          "text": [
            "/usr/local/lib/python3.11/dist-packages/sklearn/utils/validation.py:2739: UserWarning: X does not have valid feature names, but BayesianRidge was fitted with feature names\n",
            "  warnings.warn(\n"
          ]
        },
        {
          "output_type": "stream",
          "name": "stdout",
          "text": [
            "Loaded existing Bayesian model.\n"
          ]
        },
        {
          "output_type": "stream",
          "name": "stderr",
          "text": [
            "/usr/local/lib/python3.11/dist-packages/sklearn/utils/validation.py:2739: UserWarning: X does not have valid feature names, but BayesianRidge was fitted with feature names\n",
            "  warnings.warn(\n"
          ]
        },
        {
          "output_type": "stream",
          "name": "stdout",
          "text": [
            "Loaded existing Bayesian model.\n"
          ]
        },
        {
          "output_type": "stream",
          "name": "stderr",
          "text": [
            "/usr/local/lib/python3.11/dist-packages/sklearn/utils/validation.py:2739: UserWarning: X does not have valid feature names, but BayesianRidge was fitted with feature names\n",
            "  warnings.warn(\n"
          ]
        },
        {
          "output_type": "stream",
          "name": "stdout",
          "text": [
            "Loaded existing Bayesian model.\n"
          ]
        },
        {
          "output_type": "stream",
          "name": "stderr",
          "text": [
            "/usr/local/lib/python3.11/dist-packages/sklearn/utils/validation.py:2739: UserWarning: X does not have valid feature names, but BayesianRidge was fitted with feature names\n",
            "  warnings.warn(\n"
          ]
        },
        {
          "output_type": "stream",
          "name": "stdout",
          "text": [
            "Loaded existing Bayesian model.\n"
          ]
        },
        {
          "output_type": "stream",
          "name": "stderr",
          "text": [
            "/usr/local/lib/python3.11/dist-packages/sklearn/utils/validation.py:2739: UserWarning: X does not have valid feature names, but BayesianRidge was fitted with feature names\n",
            "  warnings.warn(\n"
          ]
        },
        {
          "output_type": "stream",
          "name": "stdout",
          "text": [
            "Loaded existing Bayesian model.\n"
          ]
        },
        {
          "output_type": "stream",
          "name": "stderr",
          "text": [
            "/usr/local/lib/python3.11/dist-packages/sklearn/utils/validation.py:2739: UserWarning: X does not have valid feature names, but BayesianRidge was fitted with feature names\n",
            "  warnings.warn(\n"
          ]
        },
        {
          "output_type": "stream",
          "name": "stdout",
          "text": [
            "Loaded existing Bayesian model.\n"
          ]
        },
        {
          "output_type": "stream",
          "name": "stderr",
          "text": [
            "/usr/local/lib/python3.11/dist-packages/sklearn/utils/validation.py:2739: UserWarning: X does not have valid feature names, but BayesianRidge was fitted with feature names\n",
            "  warnings.warn(\n"
          ]
        },
        {
          "output_type": "stream",
          "name": "stdout",
          "text": [
            "Loaded existing Bayesian model.\n"
          ]
        },
        {
          "output_type": "stream",
          "name": "stderr",
          "text": [
            "/usr/local/lib/python3.11/dist-packages/sklearn/utils/validation.py:2739: UserWarning: X does not have valid feature names, but BayesianRidge was fitted with feature names\n",
            "  warnings.warn(\n"
          ]
        },
        {
          "output_type": "stream",
          "name": "stdout",
          "text": [
            "Loaded existing Bayesian model.\n"
          ]
        },
        {
          "output_type": "stream",
          "name": "stderr",
          "text": [
            "/usr/local/lib/python3.11/dist-packages/sklearn/utils/validation.py:2739: UserWarning: X does not have valid feature names, but BayesianRidge was fitted with feature names\n",
            "  warnings.warn(\n"
          ]
        },
        {
          "output_type": "stream",
          "name": "stdout",
          "text": [
            "Loaded existing Bayesian model.\n"
          ]
        },
        {
          "output_type": "stream",
          "name": "stderr",
          "text": [
            "/usr/local/lib/python3.11/dist-packages/sklearn/utils/validation.py:2739: UserWarning: X does not have valid feature names, but BayesianRidge was fitted with feature names\n",
            "  warnings.warn(\n"
          ]
        },
        {
          "output_type": "stream",
          "name": "stdout",
          "text": [
            "Loaded existing Bayesian model.\n"
          ]
        },
        {
          "output_type": "stream",
          "name": "stderr",
          "text": [
            "/usr/local/lib/python3.11/dist-packages/sklearn/utils/validation.py:2739: UserWarning: X does not have valid feature names, but BayesianRidge was fitted with feature names\n",
            "  warnings.warn(\n"
          ]
        },
        {
          "output_type": "stream",
          "name": "stdout",
          "text": [
            "Loaded existing Bayesian model.\n"
          ]
        },
        {
          "output_type": "stream",
          "name": "stderr",
          "text": [
            "/usr/local/lib/python3.11/dist-packages/sklearn/utils/validation.py:2739: UserWarning: X does not have valid feature names, but BayesianRidge was fitted with feature names\n",
            "  warnings.warn(\n"
          ]
        },
        {
          "output_type": "stream",
          "name": "stdout",
          "text": [
            "Loaded existing Bayesian model.\n"
          ]
        },
        {
          "output_type": "stream",
          "name": "stderr",
          "text": [
            "/usr/local/lib/python3.11/dist-packages/sklearn/utils/validation.py:2739: UserWarning: X does not have valid feature names, but BayesianRidge was fitted with feature names\n",
            "  warnings.warn(\n"
          ]
        },
        {
          "output_type": "stream",
          "name": "stdout",
          "text": [
            "Loaded existing Bayesian model.\n"
          ]
        },
        {
          "output_type": "stream",
          "name": "stderr",
          "text": [
            "/usr/local/lib/python3.11/dist-packages/sklearn/utils/validation.py:2739: UserWarning: X does not have valid feature names, but BayesianRidge was fitted with feature names\n",
            "  warnings.warn(\n"
          ]
        },
        {
          "output_type": "stream",
          "name": "stdout",
          "text": [
            "Loaded existing Bayesian model.\n"
          ]
        },
        {
          "output_type": "stream",
          "name": "stderr",
          "text": [
            "/usr/local/lib/python3.11/dist-packages/sklearn/utils/validation.py:2739: UserWarning: X does not have valid feature names, but BayesianRidge was fitted with feature names\n",
            "  warnings.warn(\n"
          ]
        },
        {
          "output_type": "stream",
          "name": "stdout",
          "text": [
            "Loaded existing Bayesian model.\n",
            "Loaded existing Bayesian model.\n"
          ]
        },
        {
          "output_type": "stream",
          "name": "stderr",
          "text": [
            "/usr/local/lib/python3.11/dist-packages/sklearn/utils/validation.py:2739: UserWarning: X does not have valid feature names, but BayesianRidge was fitted with feature names\n",
            "  warnings.warn(\n"
          ]
        },
        {
          "output_type": "stream",
          "name": "stdout",
          "text": [
            "Error fetching data for TAI/USDT: kucoin does not have market symbol TAI/USDT\n",
            "\n",
            "--- Bayesian Trading Signals ---\n",
            "Asset: BTC/USDT\n",
            "   Signal: Sell (Predicted Price > Current Price: Buy)\n",
            "   Current Price: $100270.300000\n",
            "   Predicted Price: $92398.575315 ± $3429.980295\n",
            "   RSI: 20.42 (Above 50: Bullish; Below 50: Bearish)\n",
            "   ATR: 981.92857 (Higher indicates more volatility)\n",
            "   OBV Change: -0.0227 (Positive = Buying Pressure; Negative = Selling Pressure)\n",
            "\n",
            "Asset: ETH/USDT\n",
            "   Signal: Buy (Predicted Price > Current Price: Buy)\n",
            "   Current Price: $3159.970000\n",
            "   Predicted Price: $3277.206842 ± $100.128415\n",
            "   RSI: 29.16 (Above 50: Bullish; Below 50: Bearish)\n",
            "   ATR: 46.14857 (Higher indicates more volatility)\n",
            "   OBV Change: 0.0129 (Positive = Buying Pressure; Negative = Selling Pressure)\n",
            "\n",
            "Asset: ADA/USDT\n",
            "   Signal: Sell (Predicted Price > Current Price: Buy)\n",
            "   Current Price: $0.911500\n",
            "   Predicted Price: $0.884882 ± $0.058544\n",
            "   RSI: 32.37 (Above 50: Bullish; Below 50: Bearish)\n",
            "   ATR: 0.02114 (Higher indicates more volatility)\n",
            "   OBV Change: -0.4603 (Positive = Buying Pressure; Negative = Selling Pressure)\n",
            "\n",
            "Asset: NEAR/USDT\n",
            "   Signal: Buy (Predicted Price > Current Price: Buy)\n",
            "   Current Price: $4.588100\n",
            "   Predicted Price: $4.938969 ± $0.245424\n",
            "   RSI: 27.77 (Above 50: Bullish; Below 50: Bearish)\n",
            "   ATR: 0.11400 (Higher indicates more volatility)\n",
            "   OBV Change: 0.0666 (Positive = Buying Pressure; Negative = Selling Pressure)\n",
            "\n",
            "Asset: XRP/USDT\n",
            "   Signal: Sell (Predicted Price > Current Price: Buy)\n",
            "   Current Price: $2.958390\n",
            "   Predicted Price: $2.353734 ± $0.280609\n",
            "   RSI: 30.93 (Above 50: Bullish; Below 50: Bearish)\n",
            "   ATR: 0.04554 (Higher indicates more volatility)\n",
            "   OBV Change: -0.0359 (Positive = Buying Pressure; Negative = Selling Pressure)\n",
            "\n",
            "Asset: AVAX/USDT\n",
            "   Signal: Buy (Predicted Price > Current Price: Buy)\n",
            "   Current Price: $34.771000\n",
            "   Predicted Price: $37.449833 ± $1.935972\n",
            "   RSI: 46.39 (Above 50: Bullish; Below 50: Bearish)\n",
            "   ATR: 0.89029 (Higher indicates more volatility)\n",
            "   OBV Change: 0.0048 (Positive = Buying Pressure; Negative = Selling Pressure)\n",
            "\n",
            "Asset: LINK/USDT\n",
            "   Signal: Sell (Predicted Price > Current Price: Buy)\n",
            "   Current Price: $23.574700\n",
            "   Predicted Price: $21.663022 ± $1.530655\n",
            "   RSI: 35.63 (Above 50: Bullish; Below 50: Bearish)\n",
            "   ATR: 0.68524 (Higher indicates more volatility)\n",
            "   OBV Change: 0.0903 (Positive = Buying Pressure; Negative = Selling Pressure)\n",
            "\n",
            "Asset: CFX/USDT\n",
            "   Signal: Buy (Predicted Price > Current Price: Buy)\n",
            "   Current Price: $0.150000\n",
            "   Predicted Price: $0.160329 ± $0.008275\n",
            "   RSI: 52.94 (Above 50: Bullish; Below 50: Bearish)\n",
            "   ATR: 0.00463 (Higher indicates more volatility)\n",
            "   OBV Change: 19.1658 (Positive = Buying Pressure; Negative = Selling Pressure)\n",
            "\n",
            "Asset: XAVA/USDT\n",
            "   Signal: Buy (Predicted Price > Current Price: Buy)\n",
            "   Current Price: $0.482600\n",
            "   Predicted Price: $0.518836 ± $0.036278\n",
            "   RSI: 45.07 (Above 50: Bullish; Below 50: Bearish)\n",
            "   ATR: 0.01394 (Higher indicates more volatility)\n",
            "   OBV Change: 0.0227 (Positive = Buying Pressure; Negative = Selling Pressure)\n",
            "\n",
            "Asset: STG/USDT\n",
            "   Signal: Buy (Predicted Price > Current Price: Buy)\n",
            "   Current Price: $0.342000\n",
            "   Predicted Price: $0.355485 ± $0.034542\n",
            "   RSI: 31.95 (Above 50: Bullish; Below 50: Bearish)\n",
            "   ATR: 0.00751 (Higher indicates more volatility)\n",
            "   OBV Change: -0.0020 (Positive = Buying Pressure; Negative = Selling Pressure)\n",
            "\n",
            "Asset: FET/USDT\n",
            "   Signal: Buy (Predicted Price > Current Price: Buy)\n",
            "   Current Price: $1.123200\n",
            "   Predicted Price: $1.223040 ± $0.078585\n",
            "   RSI: 20.41 (Above 50: Bullish; Below 50: Bearish)\n",
            "   ATR: 0.02901 (Higher indicates more volatility)\n",
            "   OBV Change: 0.0133 (Positive = Buying Pressure; Negative = Selling Pressure)\n",
            "\n",
            "Asset: PEPE/USDT\n",
            "   Signal: Buy (Predicted Price > Current Price: Buy)\n",
            "   Current Price: $0.000013\n",
            "   Predicted Price: $0.000016 ± $0.000105\n",
            "   RSI: 22.22 (Above 50: Bullish; Below 50: Bearish)\n",
            "   ATR: 0.00000 (Higher indicates more volatility)\n",
            "   OBV Change: 0.0157 (Positive = Buying Pressure; Negative = Selling Pressure)\n",
            "\n",
            "Asset: DOGE/USDT\n",
            "   Signal: Sell (Predicted Price > Current Price: Buy)\n",
            "   Current Price: $0.324550\n",
            "   Predicted Price: $0.315666 ± $0.018630\n",
            "   RSI: 25.45 (Above 50: Bullish; Below 50: Bearish)\n",
            "   ATR: 0.00749 (Higher indicates more volatility)\n",
            "   OBV Change: 0.0545 (Positive = Buying Pressure; Negative = Selling Pressure)\n",
            "\n",
            "Asset: SLIM/USDT\n",
            "   Signal: Buy (Predicted Price > Current Price: Buy)\n",
            "   Current Price: $0.086170\n",
            "   Predicted Price: $0.087986 ± $0.006563\n",
            "   RSI: 25.19 (Above 50: Bullish; Below 50: Bearish)\n",
            "   ATR: 0.00317 (Higher indicates more volatility)\n",
            "   OBV Change: -0.0029 (Positive = Buying Pressure; Negative = Selling Pressure)\n",
            "\n",
            "Asset: GAFI/USDT\n",
            "   Signal: Buy (Predicted Price > Current Price: Buy)\n",
            "   Current Price: $2.475000\n",
            "   Predicted Price: $2.928064 ± $0.311995\n",
            "   RSI: 20.45 (Above 50: Bullish; Below 50: Bearish)\n",
            "   ATR: 0.04100 (Higher indicates more volatility)\n",
            "   OBV Change: 0.0000 (Positive = Buying Pressure; Negative = Selling Pressure)\n",
            "\n",
            "Asset: XCN/USDT\n",
            "   Signal: Buy (Predicted Price > Current Price: Buy)\n",
            "   Current Price: $0.036109\n",
            "   Predicted Price: $0.038663 ± $0.003947\n",
            "   RSI: 63.70 (Above 50: Bullish; Below 50: Bearish)\n",
            "   ATR: 0.00642 (Higher indicates more volatility)\n",
            "   OBV Change: -0.0066 (Positive = Buying Pressure; Negative = Selling Pressure)\n",
            "\n",
            "Asset: JUP/USDT\n",
            "   Signal: Buy (Predicted Price > Current Price: Buy)\n",
            "   Current Price: $0.970100\n",
            "   Predicted Price: $0.981913 ± $0.065217\n",
            "   RSI: 56.79 (Above 50: Bullish; Below 50: Bearish)\n",
            "   ATR: 0.09384 (Higher indicates more volatility)\n",
            "   OBV Change: -0.0787 (Positive = Buying Pressure; Negative = Selling Pressure)\n",
            "\n",
            "Asset: MNT/USDT\n",
            "   Signal: Buy (Predicted Price > Current Price: Buy)\n",
            "   Current Price: $1.109700\n",
            "   Predicted Price: $1.146428 ± $0.092325\n",
            "   RSI: 32.60 (Above 50: Bullish; Below 50: Bearish)\n",
            "   ATR: 0.02496 (Higher indicates more volatility)\n",
            "   OBV Change: 0.0056 (Positive = Buying Pressure; Negative = Selling Pressure)\n",
            "\n",
            "Asset: LTC/USDT\n",
            "   Signal: Sell (Predicted Price > Current Price: Buy)\n",
            "   Current Price: $113.788000\n",
            "   Predicted Price: $110.739750 ± $5.107833\n",
            "   RSI: 41.81 (Above 50: Bullish; Below 50: Bearish)\n",
            "   ATR: 3.43900 (Higher indicates more volatility)\n",
            "   OBV Change: -0.0147 (Positive = Buying Pressure; Negative = Selling Pressure)\n",
            "\n",
            "Asset: CRV/USDT\n",
            "   Signal: Buy (Predicted Price > Current Price: Buy)\n",
            "   Current Price: $0.727100\n",
            "   Predicted Price: $0.856096 ± $0.076691\n",
            "   RSI: 32.65 (Above 50: Bullish; Below 50: Bearish)\n",
            "   ATR: 0.02758 (Higher indicates more volatility)\n",
            "   OBV Change: 0.0124 (Positive = Buying Pressure; Negative = Selling Pressure)\n",
            "\n",
            "Asset: SAND/USDT\n",
            "   Signal: Buy (Predicted Price > Current Price: Buy)\n",
            "   Current Price: $0.513320\n",
            "   Predicted Price: $0.524746 ± $0.028647\n",
            "   RSI: 28.30 (Above 50: Bullish; Below 50: Bearish)\n",
            "   ATR: 0.01127 (Higher indicates more volatility)\n",
            "   OBV Change: 0.0099 (Positive = Buying Pressure; Negative = Selling Pressure)\n",
            "\n",
            "Asset: PYTH/USDT\n",
            "   Signal: Buy (Predicted Price > Current Price: Buy)\n",
            "   Current Price: $0.290400\n",
            "   Predicted Price: $0.340478 ± $0.025480\n",
            "   RSI: 36.84 (Above 50: Bullish; Below 50: Bearish)\n",
            "   ATR: 0.00871 (Higher indicates more volatility)\n",
            "   OBV Change: 0.0097 (Positive = Buying Pressure; Negative = Selling Pressure)\n",
            "\n"
          ]
        },
        {
          "output_type": "stream",
          "name": "stderr",
          "text": [
            "/usr/local/lib/python3.11/dist-packages/sklearn/utils/validation.py:2739: UserWarning: X does not have valid feature names, but BayesianRidge was fitted with feature names\n",
            "  warnings.warn(\n"
          ]
        }
      ],
      "source": [
        "import ccxt\n",
        "import pandas as pd\n",
        "import numpy as np\n",
        "from sklearn.linear_model import BayesianRidge\n",
        "from datetime import datetime, timedelta\n",
        "import joblib\n",
        "\n",
        "# Define global variables for prior data storage\n",
        "MODEL_FILE = \"bayesian_model.pkl\"\n",
        "\n",
        "def fetch_4h_data(api, asset, limit=200):\n",
        "    \"\"\"Fetch 4-hour OHLCV data from KuCoin.\"\"\"\n",
        "    try:\n",
        "        ohlcv = api.fetch_ohlcv(asset, timeframe=\"4h\", limit=limit)\n",
        "        df = pd.DataFrame(ohlcv, columns=[\"timestamp\", \"open\", \"high\", \"low\", \"close\", \"volume\"])\n",
        "        df['timestamp'] = pd.to_datetime(df['timestamp'], unit='ms')\n",
        "        return df\n",
        "    except Exception as e:\n",
        "        print(f\"Error fetching data for {asset}: {e}\")\n",
        "        return None\n",
        "\n",
        "def preprocess_data(df):\n",
        "    \"\"\"Preprocess data to compute features.\"\"\"\n",
        "    # Calculate OBV\n",
        "    df['obv'] = (np.sign(df['close'].diff()) * df['volume']).cumsum()\n",
        "    df['obv_change'] = df['obv'].pct_change()\n",
        "\n",
        "    # Calculate RSI\n",
        "    delta = df['close'].diff()\n",
        "    gain = delta.where(delta > 0, 0).rolling(window=14).mean()\n",
        "    loss = -delta.where(delta < 0, 0).rolling(window=14).mean()\n",
        "    rs = gain / loss\n",
        "    df['rsi'] = 100 - (100 / (1 + rs))\n",
        "\n",
        "    # Calculate ATR\n",
        "    df['tr'] = np.maximum(df['high'] - df['low'],\n",
        "                          np.maximum(abs(df['high'] - df['close'].shift()),\n",
        "                                     abs(df['low'] - df['close'].shift())))\n",
        "    df['atr'] = df['tr'].rolling(window=14).mean()\n",
        "\n",
        "    # Drop rows with NaN values\n",
        "    df = df.dropna()\n",
        "    return df\n",
        "\n",
        "def train_bayesian_model(X, y):\n",
        "    \"\"\"Train or update the Bayesian model.\"\"\"\n",
        "    # Load the model if it exists; otherwise, create a new one\n",
        "    try:\n",
        "        model = joblib.load(MODEL_FILE)\n",
        "        print(\"Loaded existing Bayesian model.\")\n",
        "    except FileNotFoundError:\n",
        "        model = BayesianRidge()\n",
        "        print(\"Initialized new Bayesian model.\")\n",
        "\n",
        "    # Update the model with the new data\n",
        "    model.fit(X, y)\n",
        "\n",
        "    # Save the updated model\n",
        "    joblib.dump(model, MODEL_FILE)\n",
        "    return model\n",
        "\n",
        "def predict_with_bayesian_model(model, X):\n",
        "    \"\"\"Make predictions with Bayesian model.\"\"\"\n",
        "    y_pred, y_std = model.predict(X, return_std=True)\n",
        "    return y_pred, y_std\n",
        "\n",
        "def fetch_signals_bayesian(api, assets):\n",
        "    \"\"\"Fetch signals using Bayesian regression for multiple assets.\"\"\"\n",
        "    results = []\n",
        "    for asset in assets:\n",
        "        df = fetch_4h_data(api, asset)\n",
        "        if df is None:\n",
        "            continue\n",
        "\n",
        "        df = preprocess_data(df)\n",
        "        X = df[[\"obv_change\", \"rsi\", \"atr\"]]\n",
        "        y = df[\"close\"].shift(-1).dropna()\n",
        "        X = X.iloc[:-1]\n",
        "\n",
        "        # Train/update the model\n",
        "        model = train_bayesian_model(X, y)\n",
        "\n",
        "        # Predict the next close price\n",
        "        latest_data = X.iloc[-1].values.reshape(1, -1)\n",
        "        predicted_price, uncertainty = predict_with_bayesian_model(model, latest_data)\n",
        "\n",
        "        # Get the latest actual close price\n",
        "        latest_close = df['close'].iloc[-1]\n",
        "\n",
        "        # Generate signal\n",
        "        signal = \"Buy\" if predicted_price > latest_close else \"Sell\"\n",
        "\n",
        "        results.append({\n",
        "            \"asset\": asset,\n",
        "            \"signal\": signal,\n",
        "            \"current_price\": latest_close,\n",
        "            \"predicted_price\": predicted_price[0],\n",
        "            \"uncertainty\": uncertainty[0],\n",
        "            \"rsi\": df['rsi'].iloc[-1],\n",
        "            \"atr\": df['atr'].iloc[-1],\n",
        "            \"obv_change\": df['obv_change'].iloc[-1]\n",
        "        })\n",
        "    return results\n",
        "\n",
        "def display_bayesian_signals(signals):\n",
        "    \"\"\"Display Bayesian signals in a user-friendly format.\"\"\"\n",
        "    print(\"\\n--- Bayesian Trading Signals ---\")\n",
        "    for signal in signals:\n",
        "        print(f\"Asset: {signal['asset']}\")\n",
        "        print(f\"   Signal: {signal['signal']} (Predicted Price > Current Price: Buy)\")\n",
        "        print(f\"   Current Price: ${signal['current_price']:.6f}\")\n",
        "        print(f\"   Predicted Price: ${signal['predicted_price']:.6f} ± ${signal['uncertainty']:.6f}\")\n",
        "        print(f\"   RSI: {signal['rsi']:.2f} (Above 50: Bullish; Below 50: Bearish)\")\n",
        "        print(f\"   ATR: {signal['atr']:.5f} (Higher indicates more volatility)\")\n",
        "        print(f\"   OBV Change: {signal['obv_change']:.4f} (Positive = Buying Pressure; Negative = Selling Pressure)\")\n",
        "        print()\n",
        "\n",
        "# Initialize CCXT for KuCoin\n",
        "exchange = ccxt.kucoin()\n",
        "\n",
        "# Define the list of assets\n",
        "assets = [\"BTC/USDT\", \"ETH/USDT\", \"ADA/USDT\", \"NEAR/USDT\",\n",
        "          \"XRP/USDT\", \"AVAX/USDT\", \"LINK/USDT\", \"CFX/USDT\",\n",
        "          \"XAVA/USDT\", \"STG/USDT\", \"FET/USDT\" , \"PEPE/USDT\" , \"DOGE/USDT\" , \"SLIM/USDT\" ,\n",
        "          \"GAFI/USDT\" , \"XCN/USDT\" , \"JUP/USDT\" , \"MNT/USDT\" , \"LTC/USDT\" , \"CRV/USDT\" ,\n",
        "          \"SAND/USDT\" , \"PYTH/USDT\" , \"TAI/USDT\"]\n",
        "\n",
        "# Fetch Bayesian signals\n",
        "signals = fetch_signals_bayesian(exchange, assets)\n",
        "\n",
        "# Display the signals\n",
        "display_bayesian_signals(signals)\n"
      ]
    }
  ]
}