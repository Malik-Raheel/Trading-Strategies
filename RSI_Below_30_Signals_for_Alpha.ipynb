{
  "nbformat": 4,
  "nbformat_minor": 0,
  "metadata": {
    "colab": {
      "provenance": [],
      "authorship_tag": "ABX9TyOpL6bxSgDHFVtx3/KiYypJ",
      "include_colab_link": true
    },
    "kernelspec": {
      "name": "python3",
      "display_name": "Python 3"
    },
    "language_info": {
      "name": "python"
    }
  },
  "cells": [
    {
      "cell_type": "markdown",
      "metadata": {
        "id": "view-in-github",
        "colab_type": "text"
      },
      "source": [
        "<a href=\"https://colab.research.google.com/github/Malik-Raheel/Trading-Strategies/blob/main/RSI_Below_30_Signals_for_Alpha.ipynb\" target=\"_parent\"><img src=\"https://colab.research.google.com/assets/colab-badge.svg\" alt=\"Open In Colab\"/></a>"
      ]
    },
    {
      "cell_type": "markdown",
      "source": [
        "Assets Tracking for Entries for Day Trading"
      ],
      "metadata": {
        "id": "JmaCqnPSMsUn"
      }
    },
    {
      "cell_type": "code",
      "execution_count": 1,
      "metadata": {
        "colab": {
          "base_uri": "https://localhost:8080/"
        },
        "id": "0ZrzkfdfMrk1",
        "outputId": "be7ecc32-b67c-45e8-d718-180d17ad50f8"
      },
      "outputs": [
        {
          "output_type": "stream",
          "name": "stdout",
          "text": [
            "Collecting ccxt\n",
            "  Downloading ccxt-4.4.50-py2.py3-none-any.whl.metadata (117 kB)\n",
            "\u001b[2K     \u001b[90m━━━━━━━━━━━━━━━━━━━━━━━━━━━━━━━━━━━━━━━━\u001b[0m \u001b[32m117.7/117.7 kB\u001b[0m \u001b[31m935.1 kB/s\u001b[0m eta \u001b[36m0:00:00\u001b[0m\n",
            "\u001b[?25hRequirement already satisfied: pandas in /usr/local/lib/python3.11/dist-packages (2.2.2)\n",
            "Requirement already satisfied: numpy in /usr/local/lib/python3.11/dist-packages (1.26.4)\n",
            "Collecting ta\n",
            "  Downloading ta-0.11.0.tar.gz (25 kB)\n",
            "  Preparing metadata (setup.py) ... \u001b[?25l\u001b[?25hdone\n",
            "Requirement already satisfied: scikit-learn in /usr/local/lib/python3.11/dist-packages (1.6.0)\n",
            "Requirement already satisfied: matplotlib in /usr/local/lib/python3.11/dist-packages (3.10.0)\n",
            "Requirement already satisfied: seaborn in /usr/local/lib/python3.11/dist-packages (0.13.2)\n",
            "Requirement already satisfied: setuptools>=60.9.0 in /usr/local/lib/python3.11/dist-packages (from ccxt) (75.1.0)\n",
            "Requirement already satisfied: certifi>=2018.1.18 in /usr/local/lib/python3.11/dist-packages (from ccxt) (2024.12.14)\n",
            "Requirement already satisfied: requests>=2.18.4 in /usr/local/lib/python3.11/dist-packages (from ccxt) (2.32.3)\n",
            "Requirement already satisfied: cryptography>=2.6.1 in /usr/local/lib/python3.11/dist-packages (from ccxt) (43.0.3)\n",
            "Requirement already satisfied: typing-extensions>=4.4.0 in /usr/local/lib/python3.11/dist-packages (from ccxt) (4.12.2)\n",
            "Collecting aiohttp<=3.10.11 (from ccxt)\n",
            "  Downloading aiohttp-3.10.11-cp311-cp311-manylinux_2_17_x86_64.manylinux2014_x86_64.whl.metadata (7.7 kB)\n",
            "Collecting aiodns>=1.1.1 (from ccxt)\n",
            "  Downloading aiodns-3.2.0-py3-none-any.whl.metadata (4.0 kB)\n",
            "Requirement already satisfied: yarl>=1.7.2 in /usr/local/lib/python3.11/dist-packages (from ccxt) (1.18.3)\n",
            "Requirement already satisfied: python-dateutil>=2.8.2 in /usr/local/lib/python3.11/dist-packages (from pandas) (2.8.2)\n",
            "Requirement already satisfied: pytz>=2020.1 in /usr/local/lib/python3.11/dist-packages (from pandas) (2024.2)\n",
            "Requirement already satisfied: tzdata>=2022.7 in /usr/local/lib/python3.11/dist-packages (from pandas) (2024.2)\n",
            "Requirement already satisfied: scipy>=1.6.0 in /usr/local/lib/python3.11/dist-packages (from scikit-learn) (1.13.1)\n",
            "Requirement already satisfied: joblib>=1.2.0 in /usr/local/lib/python3.11/dist-packages (from scikit-learn) (1.4.2)\n",
            "Requirement already satisfied: threadpoolctl>=3.1.0 in /usr/local/lib/python3.11/dist-packages (from scikit-learn) (3.5.0)\n",
            "Requirement already satisfied: contourpy>=1.0.1 in /usr/local/lib/python3.11/dist-packages (from matplotlib) (1.3.1)\n",
            "Requirement already satisfied: cycler>=0.10 in /usr/local/lib/python3.11/dist-packages (from matplotlib) (0.12.1)\n",
            "Requirement already satisfied: fonttools>=4.22.0 in /usr/local/lib/python3.11/dist-packages (from matplotlib) (4.55.3)\n",
            "Requirement already satisfied: kiwisolver>=1.3.1 in /usr/local/lib/python3.11/dist-packages (from matplotlib) (1.4.8)\n",
            "Requirement already satisfied: packaging>=20.0 in /usr/local/lib/python3.11/dist-packages (from matplotlib) (24.2)\n",
            "Requirement already satisfied: pillow>=8 in /usr/local/lib/python3.11/dist-packages (from matplotlib) (11.1.0)\n",
            "Requirement already satisfied: pyparsing>=2.3.1 in /usr/local/lib/python3.11/dist-packages (from matplotlib) (3.2.1)\n",
            "Collecting pycares>=4.0.0 (from aiodns>=1.1.1->ccxt)\n",
            "  Downloading pycares-4.5.0-cp311-cp311-manylinux_2_17_x86_64.manylinux2014_x86_64.whl.metadata (4.1 kB)\n",
            "Requirement already satisfied: aiohappyeyeballs>=2.3.0 in /usr/local/lib/python3.11/dist-packages (from aiohttp<=3.10.11->ccxt) (2.4.4)\n",
            "Requirement already satisfied: aiosignal>=1.1.2 in /usr/local/lib/python3.11/dist-packages (from aiohttp<=3.10.11->ccxt) (1.3.2)\n",
            "Requirement already satisfied: attrs>=17.3.0 in /usr/local/lib/python3.11/dist-packages (from aiohttp<=3.10.11->ccxt) (24.3.0)\n",
            "Requirement already satisfied: frozenlist>=1.1.1 in /usr/local/lib/python3.11/dist-packages (from aiohttp<=3.10.11->ccxt) (1.5.0)\n",
            "Requirement already satisfied: multidict<7.0,>=4.5 in /usr/local/lib/python3.11/dist-packages (from aiohttp<=3.10.11->ccxt) (6.1.0)\n",
            "Requirement already satisfied: cffi>=1.12 in /usr/local/lib/python3.11/dist-packages (from cryptography>=2.6.1->ccxt) (1.17.1)\n",
            "Requirement already satisfied: six>=1.5 in /usr/local/lib/python3.11/dist-packages (from python-dateutil>=2.8.2->pandas) (1.17.0)\n",
            "Requirement already satisfied: charset-normalizer<4,>=2 in /usr/local/lib/python3.11/dist-packages (from requests>=2.18.4->ccxt) (3.4.1)\n",
            "Requirement already satisfied: idna<4,>=2.5 in /usr/local/lib/python3.11/dist-packages (from requests>=2.18.4->ccxt) (3.10)\n",
            "Requirement already satisfied: urllib3<3,>=1.21.1 in /usr/local/lib/python3.11/dist-packages (from requests>=2.18.4->ccxt) (2.3.0)\n",
            "Requirement already satisfied: propcache>=0.2.0 in /usr/local/lib/python3.11/dist-packages (from yarl>=1.7.2->ccxt) (0.2.1)\n",
            "Requirement already satisfied: pycparser in /usr/local/lib/python3.11/dist-packages (from cffi>=1.12->cryptography>=2.6.1->ccxt) (2.22)\n",
            "Downloading ccxt-4.4.50-py2.py3-none-any.whl (5.7 MB)\n",
            "\u001b[2K   \u001b[90m━━━━━━━━━━━━━━━━━━━━━━━━━━━━━━━━━━━━━━━━\u001b[0m \u001b[32m5.7/5.7 MB\u001b[0m \u001b[31m22.0 MB/s\u001b[0m eta \u001b[36m0:00:00\u001b[0m\n",
            "\u001b[?25hDownloading aiodns-3.2.0-py3-none-any.whl (5.7 kB)\n",
            "Downloading aiohttp-3.10.11-cp311-cp311-manylinux_2_17_x86_64.manylinux2014_x86_64.whl (1.3 MB)\n",
            "\u001b[2K   \u001b[90m━━━━━━━━━━━━━━━━━━━━━━━━━━━━━━━━━━━━━━━━\u001b[0m \u001b[32m1.3/1.3 MB\u001b[0m \u001b[31m21.3 MB/s\u001b[0m eta \u001b[36m0:00:00\u001b[0m\n",
            "\u001b[?25hDownloading pycares-4.5.0-cp311-cp311-manylinux_2_17_x86_64.manylinux2014_x86_64.whl (288 kB)\n",
            "\u001b[2K   \u001b[90m━━━━━━━━━━━━━━━━━━━━━━━━━━━━━━━━━━━━━━━━\u001b[0m \u001b[32m288.6/288.6 kB\u001b[0m \u001b[31m11.6 MB/s\u001b[0m eta \u001b[36m0:00:00\u001b[0m\n",
            "\u001b[?25hBuilding wheels for collected packages: ta\n",
            "  Building wheel for ta (setup.py) ... \u001b[?25l\u001b[?25hdone\n",
            "  Created wheel for ta: filename=ta-0.11.0-py3-none-any.whl size=29412 sha256=9161c5e079e562161a48a127324bfe6d82b5c9e05351f8755c49922cf3c2914c\n",
            "  Stored in directory: /root/.cache/pip/wheels/a1/d7/29/7781cc5eb9a3659d032d7d15bdd0f49d07d2b24fec29f44bc4\n",
            "Successfully built ta\n",
            "Installing collected packages: pycares, aiohttp, ta, aiodns, ccxt\n",
            "  Attempting uninstall: aiohttp\n",
            "    Found existing installation: aiohttp 3.11.11\n",
            "    Uninstalling aiohttp-3.11.11:\n",
            "      Successfully uninstalled aiohttp-3.11.11\n",
            "Successfully installed aiodns-3.2.0 aiohttp-3.10.11 ccxt-4.4.50 pycares-4.5.0 ta-0.11.0\n"
          ]
        }
      ],
      "source": [
        "pip install ccxt pandas numpy ta scikit-learn matplotlib seaborn\n"
      ]
    },
    {
      "cell_type": "code",
      "source": [
        "import ccxt\n",
        "import pandas as pd\n",
        "from ta.momentum import RSIIndicator\n",
        "from ta.trend import EMAIndicator\n",
        "\n",
        "# Initialize exchange\n",
        "exchange = ccxt.kucoin()  # Replace with your preferred exchange\n",
        "\n",
        "# List of assets\n",
        "symbols = [\n",
        "    \"BTC/USDT\", \"ETH/USDT\", \"AVAX/USDT\", \"SOL/USDT\", \"XAVA/USDT\",\n",
        "    \"SLIM/USDT\", \"HNT/USDT\", \"NEAR/USDT\", \"DOGE/USDT\", \"SAND/USDT\",\n",
        "    \"CRV/USDT\", \"CFX/USDT\", \"INJ/USDT\", \"LINK/USDT\", \"AAVE/USDT\",\n",
        "    \"LTC/USDT\", \"ADA/USDT\", \"GAFI/USDT\", \"JUP/USDT\", \"MNT/USDT\",\n",
        "    \"PYTH/USDT\", \"STG/USDT\"\n",
        "]\n",
        "\n",
        "# Function to fetch historical data\n",
        "def fetch_ccxt_data(symbol, timeframe, limit=500):\n",
        "    \"\"\"Fetch historical OHLCV data using CCXT.\"\"\"\n",
        "    ohlcv = exchange.fetch_ohlcv(symbol, timeframe, limit=limit)\n",
        "    df = pd.DataFrame(ohlcv, columns=[\"time\", \"open\", \"high\", \"low\", \"close\", \"volume\"])\n",
        "    df[\"time\"] = pd.to_datetime(df[\"time\"], unit=\"ms\")\n",
        "    return df\n",
        "\n",
        "# Function to calculate RSI and EMA\n",
        "def calculate_indicators(df, rsi_period=14, ema_period=200):\n",
        "    \"\"\"Add RSI and EMA indicators to the DataFrame.\"\"\"\n",
        "    df[\"RSI\"] = RSIIndicator(df[\"close\"], window=rsi_period).rsi()\n",
        "    ema = EMAIndicator(df[\"close\"], window=ema_period)\n",
        "    df[\"EMA\"] = ema.ema_indicator()\n",
        "    return df\n",
        "\n",
        "# Signal tracking function\n",
        "def track_signals():\n",
        "    \"\"\"Track assets that meet the criteria.\"\"\"\n",
        "    signals = []\n",
        "\n",
        "    for symbol in symbols:\n",
        "        try:\n",
        "            print(f\"Processing {symbol}...\")\n",
        "\n",
        "            # Fetch data for required timeframes\n",
        "            data_15m = fetch_ccxt_data(symbol, \"15m\")\n",
        "            data_1h = fetch_ccxt_data(symbol, \"1h\")\n",
        "            data_4h = fetch_ccxt_data(symbol, \"4h\")\n",
        "            data_1d = fetch_ccxt_data(symbol, \"1d\")\n",
        "            data_1w = fetch_ccxt_data(symbol, \"1w\")\n",
        "\n",
        "            # Calculate indicators\n",
        "            data_15m = calculate_indicators(data_15m)\n",
        "            data_1h = calculate_indicators(data_1h)\n",
        "            data_4h = calculate_indicators(data_4h)\n",
        "            data_1d = calculate_indicators(data_1d)\n",
        "            data_1w = calculate_indicators(data_1w)\n",
        "\n",
        "            # Check RSI condition\n",
        "            rsi_15m = data_15m[\"RSI\"].iloc[-1] < 30\n",
        "            rsi_1h = data_1h[\"RSI\"].iloc[-1] < 30\n",
        "            rsi_4h = data_4h[\"RSI\"].iloc[-1] < 30\n",
        "            rsi_1d = data_1d[\"RSI\"].iloc[-1] < 30\n",
        "\n",
        "            # Check EMA condition\n",
        "            price_above_ema_1d = data_1d[\"close\"].iloc[-1] > data_1d[\"EMA\"].iloc[-1]\n",
        "            price_above_ema_1w = data_1w[\"close\"].iloc[-1] > data_1w[\"EMA\"].iloc[-1]\n",
        "\n",
        "            # Signal criteria\n",
        "            if (\n",
        "                (rsi_15m or rsi_1h or rsi_4h or rsi_1d)\n",
        "                and (price_above_ema_1d or price_above_ema_1w)\n",
        "            ):\n",
        "                signals.append({\n",
        "                    \"symbol\": symbol,\n",
        "                    \"RSI_15m\": data_15m[\"RSI\"].iloc[-1],\n",
        "                    \"RSI_1h\": data_1h[\"RSI\"].iloc[-1],\n",
        "                    \"RSI_4h\": data_4h[\"RSI\"].iloc[-1],\n",
        "                    \"RSI_1d\": data_1d[\"RSI\"].iloc[-1],\n",
        "                    \"Price\": data_1d[\"close\"].iloc[-1],\n",
        "                    \"EMA_1d\": data_1d[\"EMA\"].iloc[-1],\n",
        "                    \"EMA_1w\": data_1w[\"EMA\"].iloc[-1],\n",
        "                })\n",
        "\n",
        "        except Exception as e:\n",
        "            print(f\"Error processing {symbol}: {e}\")\n",
        "\n",
        "    return signals\n",
        "\n",
        "# Main execution\n",
        "if __name__ == \"__main__\":\n",
        "    signals = track_signals()\n",
        "    if signals:\n",
        "        print(\"\\nSignals Found:\")\n",
        "        for signal in signals:\n",
        "            print(signal)\n",
        "    else:\n",
        "        print(\"\\nNo signals found based on the given criteria.\")\n"
      ],
      "metadata": {
        "colab": {
          "base_uri": "https://localhost:8080/"
        },
        "id": "lxGcvLzyM2Ad",
        "outputId": "cefec271-62c4-4a63-efb1-e99ba0dbc26c"
      },
      "execution_count": 4,
      "outputs": [
        {
          "output_type": "stream",
          "name": "stdout",
          "text": [
            "Processing BTC/USDT...\n",
            "Processing ETH/USDT...\n",
            "Processing AVAX/USDT...\n",
            "Processing SOL/USDT...\n",
            "Processing XAVA/USDT...\n",
            "Processing SLIM/USDT...\n",
            "Processing HNT/USDT...\n",
            "Processing NEAR/USDT...\n",
            "Processing DOGE/USDT...\n",
            "Processing SAND/USDT...\n",
            "Processing CRV/USDT...\n",
            "Processing CFX/USDT...\n",
            "Processing INJ/USDT...\n",
            "Processing LINK/USDT...\n",
            "Processing AAVE/USDT...\n",
            "Processing LTC/USDT...\n",
            "Processing ADA/USDT...\n",
            "Processing GAFI/USDT...\n",
            "Processing JUP/USDT...\n",
            "Processing MNT/USDT...\n",
            "Processing PYTH/USDT...\n",
            "Processing STG/USDT...\n",
            "\n",
            "No signals found based on the given criteria.\n"
          ]
        }
      ]
    }
  ]
}